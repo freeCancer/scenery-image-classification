{
 "cells": [
  {
   "cell_type": "code",
   "execution_count": 2,
   "metadata": {},
   "outputs": [],
   "source": [
    "def get_tiny_images(image_set):\n",
    "    size=16\n",
    "    tiny_images=[]\n",
    "    \n",
    "    for i in image_set:\n",
    "        image=i.img\n",
    "        label=i.label\n",
    "        number=i.number\n",
    "        trueLabel=i.trueLabel\n",
    "        image=image.resize((size, size))                #resize\n",
    "        image=(image - np.mean(image))/np.std(image)   #normalize\n",
    "        image=image.flatten()                          #One-dimensional\n",
    "        image=np.asarray(image)\n",
    "        img=image_label(image,number,label,trueLabel)\n",
    "        tiny_images.append(img)\n",
    "    #tiny_images = np.asarray(tiny_images)\n",
    "    \n",
    "    return tiny_images"
   ]
  },
  {
   "cell_type": "code",
   "execution_count": 3,
   "metadata": {},
   "outputs": [],
   "source": [
    "def k_nearest_neighbor_classify(train_feature, test_feature,k):\n",
    "    #k =5\n",
    "    for test in test_feature:\n",
    "        test_img=test.img\n",
    "        distance=[]\n",
    "        counter=np.zeros(15)\n",
    "        for train in train_feature:               \n",
    "            train_img=train.img\n",
    "            d=np.linalg.norm(test_img-train_img)      #calculate the distance\n",
    "            distance.append((d,train.label))\n",
    "        distance=sorted(distance,key=lambda d: d[0] )#sort the distance\n",
    "        for i in range(k):\n",
    "            counter[distance[i][1]]+=1  #choose k min distance\n",
    "        max_index = np.argmax(counter)  #choose the max categories\n",
    "        test.label=max_index\n"
   ]
  },
  {
   "cell_type": "code",
   "execution_count": 6,
   "metadata": {},
   "outputs": [],
   "source": [
    "class image_label():    #Pack the image as a class to prevent corresponding errors\n",
    "\n",
    "    def __init__(self, img=None,number=None,label=None,trueLabel=None):\n",
    "        self.img = img     #image\n",
    "        self.number=number #image number\n",
    "        self.label=label   #image predict categories\n",
    "        self.trueLabel=trueLabel  #image true categories"
   ]
  },
  {
   "cell_type": "code",
   "execution_count": 48,
   "metadata": {
    "scrolled": true
   },
   "outputs": [],
   "source": [
    "import cv2\n",
    "import numpy as np\n",
    "import matplotlib.pyplot as plt\n",
    "from PIL import Image\n",
    "categories = ['bedroom', 'Coast', 'Forest', 'Highway', 'industrial',\n",
    "           'Insidecity', 'kitchen', 'livingroom', 'Mountain', 'Office',\n",
    "           'OpenCountry', 'store', 'Street', 'Suburb', 'TallBuilding'] \n",
    "\n",
    "train_img_set=[]\n",
    "test_img_set=[]\n",
    "\n",
    "for j in range(15):\n",
    "    for i in range(100):\n",
    "        img_PIL = Image.open(\"D:\\\\Master_course\\\\CV\\\\CW3\\\\training\\\\training\\\\\"+categories[j]+\"\\\\\"+str(i)+\".jpg\")\n",
    "        #img_PIL = np.array(img_PIL)\n",
    "        img=image_label(img_PIL,i,j,j)\n",
    "        train_img_set.append(img)\n",
    "error=0\n",
    "for i in range(2988):\n",
    "    try:\n",
    "        img_PIL = Image.open(\"D:\\\\Master_course\\\\CV\\\\CW3\\\\testing\\\\\"+str(i)+\".jpg\")\n",
    "        img=image_label(img_PIL,i)\n",
    "        test_img_set.append(img)\n",
    "        error=error+1\n",
    "    except Exception as e:\n",
    "        pass\n",
    "    continue\n",
    "   "
   ]
  },
  {
   "cell_type": "code",
   "execution_count": 49,
   "metadata": {},
   "outputs": [],
   "source": [
    "from tqdm import tqdm\n",
    "#get feature\n",
    "train_feature =get_tiny_images(train_img_set)\n",
    "test_feature =get_tiny_images(test_img_set)\n",
    "#classification\n",
    "k_nearest_neighbor_classify(train_feature,test_feature,14)\n",
    "\n"
   ]
  },
  {
   "cell_type": "code",
   "execution_count": 50,
   "metadata": {},
   "outputs": [],
   "source": [
    "with open('D:\\\\run1.txt','a') as f:\n",
    "    for t in test_feature:\n",
    "        text = '\\n'+str(t.number)+'.jpg'+' '+categories[t.label]\n",
    "        f.write(text)\n",
    " "
   ]
  },
  {
   "cell_type": "code",
   "execution_count": 7,
   "metadata": {},
   "outputs": [],
   "source": [
    "import random\n",
    "import cv2\n",
    "import numpy as np\n",
    "import matplotlib.pyplot as plt\n",
    "from PIL import Image\n",
    "img_set=[]\n",
    "categories = ['bedroom', 'Coast', 'Forest', 'Highway', 'industrial',\n",
    "           'Insidecity', 'kitchen', 'livingroom', 'Mountain', 'Office',\n",
    "           'OpenCountry', 'store', 'Street', 'Suburb', 'TallBuilding'] \n",
    "\n",
    "for j in range(15):\n",
    "    for i in range(100):\n",
    "        img_PIL = Image.open(\"D:\\\\Master_course\\\\CV\\\\CW3\\\\training\\\\training\\\\\"+categories[j]+\"\\\\\"+str(i)+\".jpg\")\n",
    "        #img_PIL = np.array(img_PIL)\n",
    "        img=image_label(img_PIL,i,j,j)\n",
    "        img_set.append(img)\n",
    "random.shuffle(img_set)"
   ]
  },
  {
   "cell_type": "code",
   "execution_count": 34,
   "metadata": {},
   "outputs": [
    {
     "name": "stderr",
     "output_type": "stream",
     "text": [
      "100%|████████████████████████████████████████████████████████████████████████████████████| 5/5 [00:12<00:00,  2.55s/it]\n"
     ]
    }
   ],
   "source": [
    "import math\n",
    "import copy\n",
    "from tqdm import tqdm\n",
    "from sklearn.metrics import confusion_matrix\n",
    "\n",
    "split=math.floor(len(img_set)*0.7) \n",
    "train_set=img_set[:split]\n",
    "test_set=img_set[split:]\n",
    "train_feature_2 =get_tiny_images(train_set)\n",
    "test_feature_2 =get_tiny_images(test_set)\n",
    "A=np.zeros((15,15))\n",
    "\n",
    "for i in tqdm(range(5)):\n",
    "    train_feature_copy=train_feature_2.copy()\n",
    "    test_feature_copy=test_feature_2.copy()\n",
    "    k_nearest_neighbor_classify(train_feature_copy,test_feature_copy,14)\n",
    "    counter=0\n",
    "    predict=[]\n",
    "    target=[]\n",
    "    for t in test_feature_2:\n",
    "    #print(t.label)\n",
    "        predict.append(t.label)\n",
    "        target.append(t.trueLabel)\n",
    "    #print(t.trueLabel)\n",
    "        if(t.label==t.trueLabel):\n",
    "            counter+=1\n",
    "    #print(counter)\n",
    "    acc+=counter/len(test_feature_copy)\n",
    "    \n",
    "    A+=confusion_matrix(target, predict)\n",
    "    #print(i,\" \",nter/lecoun(test_feature_copy))\n"
   ]
  },
  {
   "cell_type": "code",
   "execution_count": 31,
   "metadata": {},
   "outputs": [
    {
     "data": {
      "text/plain": [
       "[<matplotlib.lines.Line2D at 0x13dc77e02b0>]"
      ]
     },
     "execution_count": 31,
     "metadata": {},
     "output_type": "execute_result"
    },
    {
     "data": {
      "image/png": "[encoded data removed]",
      "text/plain": [
       "<Figure size 432x288 with 1 Axes>"
      ]
     },
     "metadata": {
      "needs_background": "light"
     },
     "output_type": "display_data"
    }
   ],
   "source": [
    "test = plt.figure()\n",
    "plt.xlabel(\"K\")\n",
    "plt.ylabel(\"Accuracy\")\n",
    "#plt.title(\"Function 1\")\n",
    "#plt.ylim(-7000,-5000)\n",
    "#plt.xlim(0,1000)\n",
    "#plt.vlines(5,0.13,0.24,linestyle='--',color=\"red\")#竖线\n",
    "#plt.vlines(14,0.13,0.24,linestyle='--',color=\"red\")#竖线\n",
    "\n",
    "#plt.vlines(20,0.13,0.24,linestyle='--',color=\"red\")#竖线\n",
    "\n",
    "plt.plot(X, acc ,linestyle='-')\n",
    "#plt.plot(X, CCGA_result, linestyle='--')\n",
    "#plt.legend([\"standard GA\", \"CCGA\"])"
   ]
  },
  {
   "cell_type": "code",
   "execution_count": 35,
   "metadata": {},
   "outputs": [
    {
     "name": "stdout",
     "output_type": "stream",
     "text": [
      "0.2826666666666667\n"
     ]
    }
   ],
   "source": [
    "print(acc/5)"
   ]
  },
  {
   "cell_type": "code",
   "execution_count": 46,
   "metadata": {},
   "outputs": [
    {
     "name": "stdout",
     "output_type": "stream",
     "text": [
      "98\n",
      "0.21777777777777776\n"
     ]
    }
   ],
   "source": [
    "counter=0\n",
    "predict=[]\n",
    "target=[]\n",
    "for t in test_feature_2:\n",
    "    #print(t.label)\n",
    "    predict.append(t.label)\n",
    "    target.append(t.trueLabel)\n",
    "    #print(t.trueLabel)\n",
    "    if(t.label==t.trueLabel):\n",
    "        counter+=1\n",
    "print(counter)\n",
    "print(counter/len(test_feature_2))"
   ]
  },
  {
   "cell_type": "code",
   "execution_count": 47,
   "metadata": {},
   "outputs": [
    {
     "name": "stdout",
     "output_type": "stream",
     "text": [
      "[[ 2.  6.  3. 10.  0.  1.  0.  1.  1.  0.  4.  0.  3.  1.  0.]\n",
      " [ 0. 16.  1. 11.  0.  1.  0.  0.  2.  0.  7.  0.  1.  1.  0.]\n",
      " [ 1.  2.  5.  2.  0.  2.  0.  1.  1.  0.  2.  0.  7.  3.  0.]\n",
      " [ 0.  0.  0. 20.  0.  0.  0.  0.  0.  0.  2.  0.  0.  0.  0.]\n",
      " [ 2.  6.  4. 11.  3.  4.  0.  1.  2.  0.  5.  0.  2.  0.  1.]\n",
      " [ 0.  4.  3.  5.  1.  1.  0.  0.  3.  0.  5.  0.  0.  3.  0.]\n",
      " [ 1.  6.  2.  5.  0.  0.  5.  3.  0.  4.  1.  1.  2.  0.  0.]\n",
      " [ 2.  2.  1. 12.  1.  0.  2.  2.  1.  0.  2.  0.  1.  4.  0.]\n",
      " [ 2.  5.  3.  8.  0.  0.  1.  1.  7.  0.  7.  0.  3.  0.  1.]\n",
      " [ 1.  8.  1.  5.  2.  1.  0.  0.  0.  7.  0.  1.  2.  0.  4.]\n",
      " [ 1.  3.  0.  5.  0.  0.  0.  0.  1.  0. 11.  0.  1.  2.  0.]\n",
      " [ 4.  7.  5.  0.  0.  0.  1.  0.  1.  2.  7.  0.  4.  0.  1.]\n",
      " [ 1.  0.  1.  4.  0.  0.  0.  0.  0.  0.  4.  0. 14.  3.  0.]\n",
      " [ 0.  3.  1.  3.  1.  1.  0.  0.  0.  1.  4.  0.  7.  8.  0.]\n",
      " [ 3.  2.  1.  2.  2.  0.  0.  1.  2.  1.  0.  1.  2.  0.  5.]]\n"
     ]
    },
    {
     "data": {
      "image/png": "[encoded data removed]",
      "text/plain": [
       "<Figure size 432x288 with 1 Axes>"
      ]
     },
     "metadata": {
      "needs_background": "light"
     },
     "output_type": "display_data"
    }
   ],
   "source": [
    "indices = range(len(A))\n",
    "plt.imshow(A)\n",
    "plt.xticks(indices, categories,rotation=60)\n",
    "plt.yticks(indices, categories) \n",
    "print(A)"
   ]
  },
  {
   "cell_type": "code",
   "execution_count": null,
   "metadata": {},
   "outputs": [],
   "source": []
  }
 ],
 "metadata": {
  "kernelspec": {
   "display_name": "Python 3",
   "language": "python",
   "name": "python3"
  },
  "language_info": {
   "codemirror_mode": {
    "name": "ipython",
    "version": 3
   },
   "file_extension": ".py",
   "mimetype": "text/x-python",
   "name": "python",
   "nbconvert_exporter": "python",
   "pygments_lexer": "ipython3",
   "version": "3.7.6"
  }
 },
 "nbformat": 4,
 "nbformat_minor": 4
}
