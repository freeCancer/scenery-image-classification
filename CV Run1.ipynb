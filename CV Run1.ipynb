{
 "cells": [
  {
   "cell_type": "code",
   "execution_count": 1,
   "metadata": {},
   "outputs": [],
   "source": [
    "def get_tiny_images(image_set):\n",
    "    size = 16\n",
    "    tiny_images = []\n",
    "    \n",
    "    for i in image_set:\n",
    "        image=i.img\n",
    "        label=i.label\n",
    "        number=i.number\n",
    "        image = image.resize((size, size))\n",
    "        image = (image - np.mean(image))/np.std(image)\n",
    "        image = image.flatten()\n",
    "        image=np.asarray(image)\n",
    "        img=image_label(image,number,label)\n",
    "        tiny_images.append(img)\n",
    "    #tiny_images = np.asarray(tiny_images)\n",
    "    \n",
    "    return tiny_images"
   ]
  },
  {
   "cell_type": "code",
   "execution_count": 2,
   "metadata": {},
   "outputs": [],
   "source": [
    "def k_nearest_neighbor_classify(train_feature, test_feature):\n",
    "    k =10\n",
    "    for test in test_feature:\n",
    "        test_img=test.img\n",
    "        distance=[]\n",
    "        counter=np.zeros(15)\n",
    "        for train in train_feature:\n",
    "            train_img=train.img\n",
    "            d=np.linalg.norm(test_img-train_img)\n",
    "            distance.append((d,train.label))\n",
    "        distance=sorted(distance,key=lambda d: d[0] )\n",
    "        for i in range(k):\n",
    "            counter[distance[i][1]]+=1\n",
    "        max_index = np.argmax(counter)\n",
    "        test.label=max_index\n"
   ]
  },
  {
   "cell_type": "code",
   "execution_count": 3,
   "metadata": {},
   "outputs": [],
   "source": [
    "class image_label():\n",
    "\n",
    "    def __init__(self, img=None,number=None,label=None):\n",
    "        self.img = img\n",
    "        self.number=number\n",
    "        self.label=label"
   ]
  },
  {
   "cell_type": "code",
   "execution_count": 6,
   "metadata": {
    "scrolled": true
   },
   "outputs": [],
   "source": [
    "import cv2\n",
    "import numpy as np\n",
    "import matplotlib.pyplot as plt\n",
    "from PIL import Image\n",
    "categories = ['bedroom', 'Coast', 'Forest', 'Highway', 'industrial',\n",
    "           'Insidecity', 'kitchen', 'livingroom', 'Mountain', 'Office',\n",
    "           'OpenCountry', 'store', 'Street', 'Suburb', 'TallBuilding'] \n",
    "\n",
    "train_img_set=[]\n",
    "test_img_set=[]\n",
    "\n",
    "for j in range(15):\n",
    "    for i in range(100):\n",
    "        img_PIL = Image.open(\"C:\\\\Users\\\\MSI-NB\\\\Desktop\\\\学习资料\\\\南安普顿大学-ai\\\\2 - Computer Vision\\\\Coursework3\\\\training\\\\\"+categories[j]+\"\\\\\"+str(i)+\".jpg\")\n",
    "        #img_PIL = np.array(img_PIL)\n",
    "        img=image_label(img_PIL,i,j)\n",
    "        train_img_set.append(img)\n",
    "error=0\n",
    "for i in range(2988):\n",
    "    try:\n",
    "        img_PIL = Image.open(\"C:\\\\Users\\\\MSI-NB\\\\Desktop\\\\学习资料\\\\南安普顿大学-ai\\\\2 - Computer Vision\\\\Coursework3\\\\testing\\\\\"+str(i)+\".jpg\")\n",
    "        img=image_label(img_PIL,i)\n",
    "        test_img_set.append(img)\n",
    "        error=error+1\n",
    "    except Exception as e:\n",
    "        pass\n",
    "    continue\n",
    "   "
   ]
  },
  {
   "cell_type": "code",
   "execution_count": 8,
   "metadata": {},
   "outputs": [
    {
     "name": "stdout",
     "output_type": "stream",
     "text": [
      "2985\n"
     ]
    }
   ],
   "source": [
    "print(len(test_img_set))"
   ]
  },
  {
   "cell_type": "code",
   "execution_count": 9,
   "metadata": {},
   "outputs": [],
   "source": [
    "from tqdm import tqdm\n",
    "train_feature =get_tiny_images(train_img_set)\n",
    "test_feature =get_tiny_images(test_img_set)\n",
    "\n",
    "k_nearest_neighbor_classify(train_feature,test_feature)\n",
    "\n"
   ]
  },
  {
   "cell_type": "code",
   "execution_count": 10,
   "metadata": {},
   "outputs": [],
   "source": [
    "with open('D:\\\\run1.txt','a') as f:\n",
    "    for t in test_feature:\n",
    "        text = '\\n'+str(t.number)+'.jpg'+' '+categories[t.label]\n",
    "        f.write(text)\n",
    " "
   ]
  },
  {
   "cell_type": "code",
   "execution_count": null,
   "metadata": {},
   "outputs": [],
   "source": []
  }
 ],
 "metadata": {
  "kernelspec": {
   "display_name": "Python 3",
   "language": "python",
   "name": "python3"
  },
  "language_info": {
   "codemirror_mode": {
    "name": "ipython",
    "version": 3
   },
   "file_extension": ".py",
   "mimetype": "text/x-python",
   "name": "python",
   "nbconvert_exporter": "python",
   "pygments_lexer": "ipython3",
   "version": "3.7.6"
  }
 },
 "nbformat": 4,
 "nbformat_minor": 4
}
